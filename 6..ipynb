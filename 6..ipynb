{
 "cells": [
  {
   "cell_type": "code",
   "execution_count": 15,
   "id": "454b637e-4b48-466b-92de-36befc9ceff2",
   "metadata": {},
   "outputs": [],
   "source": [
    "import pandas as pd"
   ]
  },
  {
   "cell_type": "code",
   "execution_count": 19,
   "id": "041a285c-5d47-4837-aad7-d5520c6a5dba",
   "metadata": {},
   "outputs": [],
   "source": [
    "data = {\n",
    "    'ID': [1,2,3,4,5,6],\n",
    "    'Name': ['Manish','Ram','Shyam','Govind','Guru','Aman'],\n",
    "    'Age' :[22,23,26,25,21,27],\n",
    "    'State': ['Goa','Maharastra','MP','UP','J&K','Gujrat'],\n",
    "    'Sales':[200,400,300,400,600,800]\n",
    "}"
   ]
  },
  {
   "cell_type": "code",
   "execution_count": 20,
   "id": "a00c2cbb-3bf4-4daf-a4d8-b7ebe810df33",
   "metadata": {},
   "outputs": [
    {
     "name": "stdout",
     "output_type": "stream",
     "text": [
      "Original Dataset:\n",
      "   ID    Name  Age       State  Sales\n",
      "0   1  Manish   22         Goa    200\n",
      "1   2     Ram   23  Maharastra    400\n",
      "2   3   Shyam   26          MP    300\n",
      "3   4  Govind   25          UP    400\n",
      "4   5    Guru   21         J&K    600\n",
      "5   6    Aman   27      Gujrat    800\n"
     ]
    }
   ],
   "source": [
    "df = pd.DataFrame(data)\n",
    "print(\"Original Dataset:\")\n",
    "print(df)"
   ]
  },
  {
   "cell_type": "code",
   "execution_count": 21,
   "id": "7ee11337-f71f-47a6-9138-0a8946c54dcf",
   "metadata": {},
   "outputs": [
    {
     "name": "stdout",
     "output_type": "stream",
     "text": [
      "\n",
      "Character Map (Uppercase Names):\n",
      "   ID    Name Name_Upper\n",
      "0   1  Manish     MANISH\n",
      "1   2     Ram        RAM\n",
      "2   3   Shyam      SHYAM\n",
      "3   4  Govind     GOVIND\n",
      "4   5    Guru       GURU\n",
      "5   6    Aman       AMAN\n"
     ]
    }
   ],
   "source": [
    "df['Name_Upper'] = df['Name'].str.upper()\n",
    "print(\"\\nCharacter Map (Uppercase Names):\")\n",
    "print(df[['ID','Name','Name_Upper']])"
   ]
  },
  {
   "cell_type": "code",
   "execution_count": 24,
   "id": "636108e3-82db-4c3a-9996-30d3242b69a6",
   "metadata": {},
   "outputs": [
    {
     "name": "stdout",
     "output_type": "stream",
     "text": [
      "\n",
      "Multicast (Modified Copies):\n",
      "Copy 1 (Sales Increased):\n",
      "   ID    Name  Age       State  Sales Name_Upper\n",
      "0   1  Manish   22         Goa  220.0     MANISH\n",
      "1   2     Ram   23  Maharastra  440.0        RAM\n",
      "2   3   Shyam   26          MP  330.0      SHYAM\n",
      "3   4  Govind   25          UP  440.0     GOVIND\n",
      "4   5    Guru   21         J&K  660.0       GURU\n",
      "5   6    Aman   27      Gujrat  880.0       AMAN\n",
      "\n",
      "Copy 2 (Age Increased):\n",
      "   ID    Name  Age       State  Sales Name_Upper\n",
      "0   1  Manish   27         Goa    200     MANISH\n",
      "1   2     Ram   28  Maharastra    400        RAM\n",
      "2   3   Shyam   31          MP    300      SHYAM\n",
      "3   4  Govind   30          UP    400     GOVIND\n",
      "4   5    Guru   26         J&K    600       GURU\n",
      "5   6    Aman   32      Gujrat    800       AMAN\n"
     ]
    }
   ],
   "source": [
    "#Multicast: Create two copies of the dataset\n",
    "df_copy1 = df.copy()\n",
    "df_copy2 = df.copy()\n",
    "\n",
    "df_copy1['Sales']*=1.1\n",
    "df_copy2['Age'] +=5\n",
    "\n",
    "print(\"\\nMulticast (Modified Copies):\")\n",
    "print(\"Copy 1 (Sales Increased):\")\n",
    "print(df_copy1)\n",
    "print(\"\\nCopy 2 (Age Increased):\")\n",
    "print(df_copy2)"
   ]
  },
  {
   "cell_type": "code",
   "execution_count": 28,
   "id": "4050ed22-1734-4c97-9202-3bfa73e43c5c",
   "metadata": {},
   "outputs": [
    {
     "name": "stdout",
     "output_type": "stream",
     "text": [
      "\n",
      "Conditinal Split:\n",
      "High Sales:\n",
      "   ID  Name  Age   State  Sales Name_Upper\n",
      "4   5  Guru   21     J&K    600       GURU\n",
      "5   6  Aman   27  Gujrat    800       AMAN\n",
      "\n",
      "Low Sales:\n",
      "   ID    Name  Age       State  Sales Name_Upper\n",
      "0   1  Manish   22         Goa    200     MANISH\n",
      "1   2     Ram   23  Maharastra    400        RAM\n",
      "2   3   Shyam   26          MP    300      SHYAM\n",
      "3   4  Govind   25          UP    400     GOVIND\n"
     ]
    }
   ],
   "source": [
    "#Conditional Split : Sales>400\n",
    "high_sales = df[df['Sales']>400]\n",
    "low_sales = df[df['Sales']<=400]\n",
    "print(\"\\nConditinal Split:\")\n",
    "print(\"High Sales:\")\n",
    "print(high_sales)\n",
    "print(\"\\nLow Sales:\")\n",
    "print(low_sales)"
   ]
  },
  {
   "cell_type": "code",
   "execution_count": 31,
   "id": "02816612-d31e-471a-b115-5eea78cf9500",
   "metadata": {},
   "outputs": [
    {
     "name": "stdout",
     "output_type": "stream",
     "text": [
      "\n",
      "Aggregation (Total Sales by Country):\n",
      "        State  Sales\n",
      "0         Goa    200\n",
      "1      Gujrat    800\n",
      "2         J&K    600\n",
      "3          MP    300\n",
      "4  Maharastra    400\n",
      "5          UP    400\n"
     ]
    }
   ],
   "source": [
    "#Aggregatio\n",
    "#Description: Aggregation data, e.g., calculate total sales by country.\n",
    "#Aggregation: Total sales by country\n",
    "agg_df = df.groupby('State')['Sales'].sum().reset_index()\n",
    "print(\"\\nAggregation (Total Sales by Country):\")\n",
    "print(agg_df)"
   ]
  },
  {
   "cell_type": "code",
   "execution_count": 33,
   "id": "0141c011-91d2-4c20-ba5c-a1c8fdc91228",
   "metadata": {},
   "outputs": [
    {
     "name": "stdout",
     "output_type": "stream",
     "text": [
      "\n",
      "Sort (Descending Sales):\n",
      "   ID    Name  Age       State  Sales Name_Upper\n",
      "5   6    Aman   27      Gujrat    800       AMAN\n",
      "4   5    Guru   21         J&K    600       GURU\n",
      "1   2     Ram   23  Maharastra    400        RAM\n",
      "3   4  Govind   25          UP    400     GOVIND\n",
      "2   3   Shyam   26          MP    300      SHYAM\n",
      "0   1  Manish   22         Goa    200     MANISH\n"
     ]
    }
   ],
   "source": [
    "#5. Sort\n",
    "#Description: Sort the dataset by Sales in descending order.\n",
    "sorted_df=df.sort_values(by='Sales', ascending=False)\n",
    "print(\"\\nSort (Descending Sales):\")\n",
    "print(sorted_df)"
   ]
  },
  {
   "cell_type": "code",
   "execution_count": 35,
   "id": "4171d8f1-5481-45fe-a069-440641ce162f",
   "metadata": {},
   "outputs": [
    {
     "name": "stdout",
     "output_type": "stream",
     "text": [
      "\n",
      "Derived Column (Sales Category):\n",
      "   ID    Name  Sales Sales_Category\n",
      "0   1  Manish    200            Low\n",
      "1   2     Ram    400           High\n",
      "2   3   Shyam    300            Low\n",
      "3   4  Govind    400           High\n",
      "4   5    Guru    600           High\n",
      "5   6    Aman    800           High\n"
     ]
    }
   ],
   "source": [
    "#Derived Column: Category sales as 'High' or 'Low'\n",
    "df['Sales_Category'] = df['Sales'].apply(lambda x:'High' if x>300 else 'Low')\n",
    "print(\"\\nDerived Column (Sales Category):\")\n",
    "print(df[['ID','Name','Sales','Sales_Category']])"
   ]
  },
  {
   "cell_type": "code",
   "execution_count": null,
   "id": "b753950b-b72e-4259-97be-83970a42ee59",
   "metadata": {},
   "outputs": [],
   "source": []
  }
 ],
 "metadata": {
  "kernelspec": {
   "display_name": "Python 3 (ipykernel)",
   "language": "python",
   "name": "python3"
  },
  "language_info": {
   "codemirror_mode": {
    "name": "ipython",
    "version": 3
   },
   "file_extension": ".py",
   "mimetype": "text/x-python",
   "name": "python",
   "nbconvert_exporter": "python",
   "pygments_lexer": "ipython3",
   "version": "3.12.7"
  }
 },
 "nbformat": 4,
 "nbformat_minor": 5
}
