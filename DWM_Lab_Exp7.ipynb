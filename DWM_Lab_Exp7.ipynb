{
 "cells": [
  {
   "cell_type": "code",
   "execution_count": 1,
   "id": "cda979a2-694e-4b12-a2bd-fde21395fab7",
   "metadata": {},
   "outputs": [
    {
     "name": "stdout",
     "output_type": "stream",
     "text": [
      "Requirement already satisfied: apyori in d:\\anaconda\\lib\\site-packages (1.1.2)\n"
     ]
    }
   ],
   "source": [
    "!pip install apyori"
   ]
  },
  {
   "cell_type": "code",
   "execution_count": null,
   "id": "e2d6f890-490a-4998-a61f-29649a5bb321",
   "metadata": {},
   "outputs": [],
   "source": [
    "# Name- Deepak Yadav  PRN- 22070521023\n",
    "#Apriori Algorithm in Python- Market Basket Analyis"
   ]
  },
  {
   "cell_type": "code",
   "execution_count": null,
   "id": "943581b4-485b-475e-9758-c394ec903649",
   "metadata": {},
   "outputs": [],
   "source": [
    "# Name- Deepak Yadav   PRN- 22070521023\n",
    "#import required librairies \n",
    "import numpy as np\n",
    "import pandas as pd \n",
    "from apyori import apriori"
   ]
  },
  {
   "cell_type": "code",
   "execution_count": 7,
   "id": "724016f5-5a1c-4032-b472-293ddca7d60e",
   "metadata": {},
   "outputs": [],
   "source": [
    "#Load the dataset \n",
    "store_df = pd.read_csv('Day1.csv', header = None)"
   ]
  },
  {
   "cell_type": "code",
   "execution_count": 9,
   "id": "78c331d6-b39f-415f-94bd-a5ffd9889abf",
   "metadata": {
    "scrolled": true
   },
   "outputs": [
    {
     "name": "stdout",
     "output_type": "stream",
     "text": [
      "       0      1      2       3     4      5\n",
      "0   Wine  Chips  Bread  Butter  Milk  Apple\n",
      "1   Wine    NaN  Bread  Butter  Milk    NaN\n",
      "2    NaN    NaN  Bread  Butter  Milk    NaN\n",
      "3    NaN  Chips    NaN     NaN   NaN  Apple\n",
      "4   Wine  Chips  Bread  Butter  Milk  Apple\n",
      "5   Wine  Chips    NaN     NaN  Milk    NaN\n",
      "6   Wine  Chips  Bread  Butter   NaN  Apple\n",
      "7   Wine  Chips    NaN     NaN  Milk    NaN\n",
      "8   Wine    NaN  Bread     NaN   NaN  Apple\n",
      "9   Wine    NaN  Bread  Butter  Milk    NaN\n",
      "10   NaN  Chips  Bread  Butter   NaN  Apple\n",
      "11  Wine    NaN    NaN  Butter  Milk  Apple\n",
      "12  Wine  Chips  Bread  Butter  Milk    NaN\n",
      "13  Wine    NaN  Bread     NaN  Milk  Apple\n",
      "14  Wine    NaN  Bread  Butter  Milk  Apple\n",
      "15  Wine  Chips  Bread  Butter  Milk  Apple\n",
      "16   NaN  Chips  Bread  Butter  Milk  Apple\n",
      "17   NaN  Chips    NaN  Butter  Milk  Apple\n",
      "18  Wine  Chips  Bread  Butter  Milk  Apple\n",
      "19  Wine    NaN  Bread  Butter  Milk  Apple\n",
      "20  Wine  Chips  Bread     NaN  Milk  Apple\n",
      "21   NaN  Chips    NaN     NaN   NaN    NaN\n"
     ]
    }
   ],
   "source": [
    "#have a alook at the dataset\n",
    "print(store_df)"
   ]
  },
  {
   "cell_type": "code",
   "execution_count": null,
   "id": "bc0ae6cd-49dd-4c0d-a2c1-d8883ffbba2f",
   "metadata": {},
   "outputs": [
    {
     "data": {
      "text/plain": [
       "(22, 6)"
      ]
     },
     "execution_count": 11,
     "metadata": {},
     "output_type": "execute_result"
    }
   ],
   "source": [
    "# Name- Name- Deepak Yadav  PRN- 22070521023\n",
    "#find the shape of the dataset \n",
    "store_df.shape"
   ]
  },
  {
   "cell_type": "code",
   "execution_count": 13,
   "id": "30be1f19-92ab-4bb9-a10b-99be46c410bd",
   "metadata": {},
   "outputs": [],
   "source": [
    "records = []\n",
    "for i in range(0, 22):\n",
    "    records.append([str(store_df.values[i,j]) for j in range(0, 6)])"
   ]
  },
  {
   "cell_type": "code",
   "execution_count": 15,
   "id": "cb770744-1bad-4340-8272-1e43c79c080b",
   "metadata": {
    "scrolled": true
   },
   "outputs": [
    {
     "data": {
      "text/plain": [
       "[['Wine', 'Chips', 'Bread', 'Butter', 'Milk', 'Apple'],\n",
       " ['Wine', 'nan', 'Bread', 'Butter', 'Milk', 'nan'],\n",
       " ['nan', 'nan', 'Bread', 'Butter', 'Milk', 'nan'],\n",
       " ['nan', 'Chips', 'nan', 'nan', 'nan', 'Apple'],\n",
       " ['Wine', 'Chips', 'Bread', 'Butter', 'Milk', 'Apple'],\n",
       " ['Wine', 'Chips', 'nan', 'nan', 'Milk', 'nan'],\n",
       " ['Wine', 'Chips', 'Bread', 'Butter', 'nan', 'Apple'],\n",
       " ['Wine', 'Chips', 'nan', 'nan', 'Milk', 'nan'],\n",
       " ['Wine', 'nan', 'Bread', 'nan', 'nan', 'Apple'],\n",
       " ['Wine', 'nan', 'Bread', 'Butter', 'Milk', 'nan'],\n",
       " ['nan', 'Chips', 'Bread', 'Butter', 'nan', 'Apple'],\n",
       " ['Wine', 'nan', 'nan', 'Butter', 'Milk', 'Apple'],\n",
       " ['Wine', 'Chips', 'Bread', 'Butter', 'Milk', 'nan'],\n",
       " ['Wine', 'nan', 'Bread', 'nan', 'Milk', 'Apple'],\n",
       " ['Wine', 'nan', 'Bread', 'Butter', 'Milk', 'Apple'],\n",
       " ['Wine', 'Chips', 'Bread', 'Butter', 'Milk', 'Apple'],\n",
       " ['nan', 'Chips', 'Bread', 'Butter', 'Milk', 'Apple'],\n",
       " ['nan', 'Chips', 'nan', 'Butter', 'Milk', 'Apple'],\n",
       " ['Wine', 'Chips', 'Bread', 'Butter', 'Milk', 'Apple'],\n",
       " ['Wine', 'nan', 'Bread', 'Butter', 'Milk', 'Apple'],\n",
       " ['Wine', 'Chips', 'Bread', 'nan', 'Milk', 'Apple'],\n",
       " ['nan', 'Chips', 'nan', 'nan', 'nan', 'nan']]"
      ]
     },
     "execution_count": 15,
     "metadata": {},
     "output_type": "execute_result"
    }
   ],
   "source": [
    "records"
   ]
  },
  {
   "cell_type": "code",
   "execution_count": null,
   "id": "89547f90-ab84-48f7-bcf1-c49f91de2c15",
   "metadata": {},
   "outputs": [],
   "source": [
    "# Name- Name- Deepak Yadav  PRN- 22070521023\n",
    "#Building the first apriori model\n",
    "association_rules = apriori(records, min_support = 0.50, min_confidence = 0.7, min_lift = 1.2, min_length = 2)\n",
    "association_results = list(association_rules)"
   ]
  },
  {
   "cell_type": "code",
   "execution_count": 19,
   "id": "bb44e0f3-2b9e-44e3-849c-8ed398711806",
   "metadata": {},
   "outputs": [
    {
     "name": "stdout",
     "output_type": "stream",
     "text": [
      "1\n"
     ]
    }
   ],
   "source": [
    "#print the number of rules\n",
    "print(len(association_results))"
   ]
  },
  {
   "cell_type": "code",
   "execution_count": 21,
   "id": "2d3f5079-1176-4597-838d-7e36e39df531",
   "metadata": {
    "scrolled": true
   },
   "outputs": [
    {
     "name": "stdout",
     "output_type": "stream",
     "text": [
      "[RelationRecord(items=frozenset({'Butter', 'Milk', 'Bread'}), support=0.5, ordered_statistics=[OrderedStatistic(items_base=frozenset({'Butter'}), items_add=frozenset({'Bread', 'Milk'}), confidence=0.7333333333333334, lift=1.241025641025641), OrderedStatistic(items_base=frozenset({'Milk', 'Bread'}), items_add=frozenset({'Butter'}), confidence=0.8461538461538461, lift=1.241025641025641)])]\n"
     ]
    }
   ],
   "source": [
    "#have a glance at the rule\n",
    "print(association_results)"
   ]
  },
  {
   "cell_type": "code",
   "execution_count": null,
   "id": "610397fc-d107-4d88-bead-c32d669d8bf0",
   "metadata": {},
   "outputs": [],
   "source": []
  },
  {
   "cell_type": "code",
   "execution_count": null,
   "id": "57164d3b-4ad6-44a3-8f33-acd54d9ef3be",
   "metadata": {},
   "outputs": [],
   "source": []
  }
 ],
 "metadata": {
  "kernelspec": {
   "display_name": "Python [conda env:base] *",
   "language": "python",
   "name": "conda-base-py"
  },
  "language_info": {
   "codemirror_mode": {
    "name": "ipython",
    "version": 3
   },
   "file_extension": ".py",
   "mimetype": "text/x-python",
   "name": "python",
   "nbconvert_exporter": "python",
   "pygments_lexer": "ipython3",
   "version": "3.12.7"
  }
 },
 "nbformat": 4,
 "nbformat_minor": 5
}
